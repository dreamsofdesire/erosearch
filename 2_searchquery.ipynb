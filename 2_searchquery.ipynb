{
 "cells": [
  {
   "cell_type": "code",
   "execution_count": 1,
   "id": "bfdd6131",
   "metadata": {},
   "outputs": [],
   "source": [
    "import os\n",
    "from nltk.tokenize import word_tokenize\n",
    "from nltk.corpus import stopwords\n",
    "import nltk\n",
    "from nltk.tokenize import RegexpTokenizer\n",
    "from nltk.stem import PorterStemmer\n",
    "from rank_bm25 import *\n",
    "from gensim.parsing.preprocessing import STOPWORDS\n",
    "from rank_bm25 import BM25Okapi\n",
    "import pickle\n",
    "\n",
    "def stopwords_removal(lst):\n",
    "    global all_stopwords\n",
    "    lst1=list()\n",
    "    for str in lst:\n",
    "        text_tokens = word_tokenize(str)\n",
    "        tokens_without_sw = [word for word in text_tokens if not word in all_stopwords]\n",
    "        str_t = \"\".join(tokens_without_sw)\n",
    "#         print(tokens_without_sw)\n",
    "        lst1.append(str_t)\n",
    "    lst2 = [x.lower() for x in lst1 if x!=\"\" and len(x)>2]\n",
    "    return lst2\n",
    "\n"
   ]
  },
  {
   "cell_type": "code",
   "execution_count": 2,
   "id": "a21ff18b",
   "metadata": {},
   "outputs": [],
   "source": [
    "stopWordsEng = stopwords.words('english')\n",
    "nltkstopw = stopwords.words('english')\n",
    "all_stopwords = STOPWORDS.union(set(nltkstopw))\n",
    "ps = PorterStemmer() \n"
   ]
  },
  {
   "cell_type": "code",
   "execution_count": 3,
   "id": "c0342960",
   "metadata": {},
   "outputs": [],
   "source": [
    "with open('objs//bm25', 'rb') as handle:\n",
    "    bm25 = pickle.load(handle)\n",
    "    \n",
    "with open('objs//tokenized_corpus', 'rb') as handle:\n",
    "    tokenized_corpus = pickle.load(handle)\n",
    "\n",
    "with open('objs//fpathdict', 'rb') as handle:\n",
    "    fpathdict = pickle.load(handle)\n"
   ]
  },
  {
   "cell_type": "code",
   "execution_count": 4,
   "id": "162098da",
   "metadata": {},
   "outputs": [],
   "source": [
    "def getSearchResults(query):\n",
    "    words = RegexpTokenizer(r'\\w+').tokenize(query)\n",
    "    wordswithoutstops = stopwords_removal(words)\n",
    "    tokenized_query = [ps.stem(x) for x in wordswithoutstops]\n",
    "    doc_scores = bm25.get_scores(tokenized_query)\n",
    "    matchingdocs = np.argsort(doc_scores)[::-1][:20]\n",
    "    resultslist = [fpathdict[x] for x in matchingdocs]\n",
    "    return resultslist"
   ]
  },
  {
   "cell_type": "code",
   "execution_count": 5,
   "id": "abceaf37",
   "metadata": {},
   "outputs": [
    {
     "name": "stdout",
     "output_type": "stream",
     "text": [
      "Type your search query :sister\n",
      "1  =>  stories\\favorites\\Lost, Stranded, Line in the Sand.txt\n",
      "2  =>  stories\\online dating game.txt\n",
      "3  =>  stories\\party with sister.txt\n",
      "4  =>  stories\\short stories\\sis milk.txt\n",
      "5  =>  stories\\newest\\18thNov2017\\M &S Hor for CFNM.txt\n",
      "6  =>  stories\\newest\\2nd Jan 2020\\Sibling Swap.txt\n",
      "7  =>  stories\\newest\\2nd Jan 2020\\Tales of My Sl-Sis.txt\n",
      "8  =>  stories\\short stories\\dressed to thrill.txt\n",
      "9  =>  stories\\Best Present Ever (Complete).txt\n",
      "10  =>  stories\\newest\\13th Dec 2018\\My Sister, My Slave.txt\n",
      "11  =>  stories\\short stories\\alex elisabeth and rose tattoo.txt\n",
      "12  =>  stories\\newest\\2nd Jan 2020\\Family Takedown Chapter 1-12.txt\n",
      "13  =>  stories\\Punished by Mother, Sister and Wife.txt\n",
      "14  =>  stories\\short stories\\derek and angela.txt\n",
      "15  =>  stories\\soccer mom.txt\n",
      "16  =>  stories\\short stories\\playing possum.txt\n",
      "17  =>  stories\\New Lite\\SLS.txt\n",
      "18  =>  stories\\newest\\7th Jan 2018\\Controlling Sister.txt\n",
      "19  =>  stories\\short stories\\our sec love.txt\n",
      "20  =>  stories\\short stories\\easy as one two thre.txt\n"
     ]
    }
   ],
   "source": [
    "query = input (\"Type your search query :\")\n",
    "resultslist = getSearchResults(query)\n",
    "rank=1\n",
    "for path in resultslist:\n",
    "    print(rank,\" => \",path)\n",
    "    rank+=1"
   ]
  },
  {
   "cell_type": "code",
   "execution_count": null,
   "id": "f3321506",
   "metadata": {},
   "outputs": [],
   "source": []
  }
 ],
 "metadata": {
  "kernelspec": {
   "display_name": "Python 3",
   "language": "python",
   "name": "python3"
  },
  "language_info": {
   "codemirror_mode": {
    "name": "ipython",
    "version": 3
   },
   "file_extension": ".py",
   "mimetype": "text/x-python",
   "name": "python",
   "nbconvert_exporter": "python",
   "pygments_lexer": "ipython3",
   "version": "3.8.8"
  }
 },
 "nbformat": 4,
 "nbformat_minor": 5
}
